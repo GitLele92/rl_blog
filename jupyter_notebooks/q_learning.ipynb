{
 "cells": [
  {
   "cell_type": "markdown",
   "metadata": {},
   "source": [
    "# Q-Learning\n",
    "\n",
    "Q-Learning was first introduced in [1989 by Christopher Watkins](http://www.cs.rhul.ac.uk/~chrisw/new_thesis.pdf) as a growth out of the [dynamic programming](https://www.datahubbs.com/what-is-dynamic-programming/) paradigm. Q-learning also served as the basis for some of the tremendous achievements of deep reinforcement learning that came out of [Google DeepMind in 2013](https://arxiv.org/pdf/1312.5602v1.pdf) and helped put these techniques on the map. But before we get to learning how to play Atari games, let's first focus on building up from the basics by focusing on **tabular Q-learning**.\n",
    "\n",
    "## A Simple Example\n",
    "\n",
    "Reinforcement learning relies on [Markov Decision Processes (MDP's)](https://www.datahubbs.com/reinforcement-learning-markov-decision-processes/) which consist of states ($s_t$) that an agent is in and actions ($a_t$) that the agent can take to move onto a new state ($s_{t+1}$) and receive a reward or a punishment ($R_{t+1}$). Q-learning seeks to learn the corresponding Q-value (think \"quality\") of a given action-state pair. When the number of states and actions are both small and well-defined, we can represent these states and actions in a table. \n",
    "\n",
    "Let's imagine a simple grid world with two actions, left and right, and four grid spaces with the goal (G) at the far side. If the agent reaches the goal it gets a reward of $+1$ and the episode ends. \n",
    "\n",
    "<img src=\"https://www.datahubbs.com/wp-content/uploads/2018/12/q_learning_2d-2.png\">\n",
    "\n",
    "Such a small environment is trivial to solve, but it allows for easy visualization of a Q-table.\n",
    "\n",
    "<img src=\"https://www.datahubbs.com/wp-content/uploads/2018/12/q_learning_table-1.png\">\n",
    "\n",
    "The Q-values here are understood as the expected discounted reward the agent will receive if it takes an action (left or right in this case) in a given state (1, 2, 3, or 4). To calculate the Q-values, we use the Q-learning update equation.\n",
    "\n",
    "$$Q(s_t, a_t) \\leftarrow Q(s_t, a_t) + \\alpha \\big(R_{t+1} + \\gamma max_a Q(s_{t+1}, a) - Q(s_t, a_t) \\big)$$\n",
    "\n",
    "So how does this work? Starting from inside the parentheses, we take the reward we got from our selected action $(R_{t+1})$, and add it to the discounted maximum Q-value for that state, and subtract it from our current estimate of the Q-value of that state. What this is doing is computing the **error** between the action we just took and what we believe to be the best action available to us from this new state ($S_{t+1}$). We then scale the error down by our step-size ($\\alpha$) and add it to our current estimate for $Q(s_t, a_t)$, which then yields our new estimate for $Q(s_t,a_t)$.\n",
    "\n",
    "This makes sense because $Q(s_t,a_t)$ is an approximation of the total discounted future rewards from that state when taking that action. This means that when we take that action and get the reward, the reward plus our approximation should be equal to the discounted sum of all future rewards if we're following a greedy policy. In other words we want to learn a function so that $Q(s_t, a_t) \\approx R_{t+1} + \\gamma max_aQ(s_{t+1}, a_{t+1})$. \n",
    "\n",
    "If we initialize all the values in our Q-table to 0, choose $\\gamma=1$ and $\\alpha=0.1$ we can see how this might work. Say the agent is in position 1 and moves right. In this case, our new Q-value, $Q(1, R)$, will remain 0 because we get no reward from $1\\rightarrow2$ and we have no non-zero values in our Q-table. Same thing if we move right again from $2\\rightarrow3$. If we move $3\\rightarrow 4$, we get a reward, so we can update our table. Now, we have:\n",
    "\n",
    "$$0 + 0.1 \\big(1 + 0 - 0 \\big) \\Rightarrow Q(3,R) = 0.1$$\n",
    "\n",
    "This value will begin to propogate through the table with each episode, giving our agent something to learn on! Because position 4 is a terminal state, we can go back to the beginning and do it over again. But now, our Q-table looks like this:\n",
    "\n",
    "<img src=\"https://www.datahubbs.com/wp-content/uploads/2018/12/q_learning_table_update1.png\">\n",
    "\n",
    "Running through the same procedure again, we'll have $Q(1, R) = 0$, but now we'll get a value for $Q(2,R)$.\n",
    "\n",
    "$$Q(2,R) = 0 + 0.1\\big(0 + max_aQ(3) - 0\\big)$$\n",
    "\n",
    "From our table, we can see that $max_aQ(3)=0.1$, thus we have:\n",
    "\n",
    "$$\\Rightarrow Q(2,R) = 0.01$$\n",
    "\n",
    "We can continue this until we reach some convergence criteria. In this super simple environment, we can determine the optimal policy by inspection (always go right). For actual training environments, we need some type of action selection rule. Typically, $\\epsilon-greedy$ policies are chosen, which means that we look at our Q-table and choose the action corresponding to the largest value for that state ($max_a Q(s_t)$), that's the greedy part. But we have some probability $\\epsilon$ (often times 0.05) that we choose a random action to ensure that we're exploring the environment sufficiently. \n",
    "\n",
    "The full Q-learning algorithm is as follows:\n",
    "> Set algorithm paramters $\\alpha, \\epsilon \\in (0, 1]$, and initialize $Q(s,a)$ arbitrarily (except for terminal states which are set to 0).\n",
    "> For each episode:\n",
    ">> Initialize environment:\n",
    ">> For each step in the episode:\n",
    ">>> Draw a random number $p$ from a uniform distribution $\\in [0, 1]$\n",
    "\n",
    ">>>> If $p < \\epsilon \\rightarrow$ choose random action $a_t$\n",
    "\n",
    ">>>> Else select $max_a Q(s_t)$ from Q-table\n",
    "\n",
    ">>> Take action $a_t$ and observe $R_{t+1}, s_{t+1}$\n",
    "\n",
    ">>> Update Q-table: $Q(s_t, a_t) \\leftarrow Q(s_t, a_t) + \\alpha \\big(R_{t+1} + \\gamma max_a Q(s_{t+1}, a) - Q(s_t, a_t) \\big)$\n",
    "\n",
    ">> Until max number of episodes reached or convergence criteria satisfied\n",
    "\n",
    "Let's see how this works with another, simple grid world example.\n",
    "\n",
    "## Grid World\n",
    "\n",
    "If you haven't already, you can get the code for this grid world from [here on GitHub](https://github.com/hubbs5/rl_blog/blob/master/q_learning/tabular/gridworld.py). From there you can import the following packages and you'll be off and running."
   ]
  },
  {
   "cell_type": "code",
   "execution_count": 1,
   "metadata": {},
   "outputs": [],
   "source": [
    "import numpy as np\n",
    "import matplotlib.pyplot as plt\n",
    "import seaborn as sns\n",
    "%matplotlib inline \n",
    "\n",
    "from gridworld import * # Get this from GitHub!\n",
    "np.random.seed(1234)\n",
    "plt.rcParams.update({'font.size': 18})"
   ]
  },
  {
   "cell_type": "markdown",
   "metadata": {},
   "source": [
    "The grid world is $3 \\times 5$ environment with two terminal states, a trap (T) and a goal (G). You get a reward of $-5$ for the trap and $+10$ for the goal. You can visualize the grid world with the following commands:"
   ]
  },
  {
   "cell_type": "code",
   "execution_count": 2,
   "metadata": {},
   "outputs": [
    {
     "name": "stdout",
     "output_type": "stream",
     "text": [
      "--------------------------\n",
      "| S  |    |    |    | T  |  \n",
      "--------------------------\n",
      "|    |    |    |    |    |  \n",
      "--------------------------\n",
      "|    |    |    |    | G  |  \n",
      "--------------------------\n"
     ]
    }
   ],
   "source": [
    "env = gridworld()\n",
    "env.show_grid()"
   ]
  },
  {
   "cell_type": "markdown",
   "metadata": {},
   "source": [
    "To start off, let's initialize our Q-table to be all zeros. Notice that the Q-table will have one more dimension than the grid world. In the simple, 1-D example above, we had a 2-D Q-table. In this 2-D grid world, we'll have a 3-D table. For this, I set it up so that the rows and columns of the Q-table correspond to the rows and columns of the grid world and the depth corresponds to the actions. In this case, we have four actions (up, down, left, and right), so we'll have a $3 \\times 5 \\times 4$ table."
   ]
  },
  {
   "cell_type": "code",
   "execution_count": 3,
   "metadata": {},
   "outputs": [
    {
     "data": {
      "text/plain": [
       "(3, 5, 4)"
      ]
     },
     "execution_count": 3,
     "metadata": {},
     "output_type": "execute_result"
    }
   ],
   "source": [
    "q_table = np.zeros((env.dim[0], env.dim[1], len(env.action_space)))\n",
    "q_table.shape"
   ]
  },
  {
   "cell_type": "markdown",
   "metadata": {},
   "source": [
    "Using a Q-table, we can easily access the entries by using the states and actions as indices. \n",
    "\n",
    "Now, let's set up our parameters and implement the algorithm. Set the number of episodes to 1,000, $\\gamma=0.99$, $\\epsilon=0.05$, and $\\alpha=0.01$."
   ]
  },
  {
   "cell_type": "code",
   "execution_count": 4,
   "metadata": {},
   "outputs": [],
   "source": [
    "# Parameters\n",
    "num_episodes = 1000\n",
    "gamma = 0.99\n",
    "eps = 0.05\n",
    "lr = 0.01"
   ]
  },
  {
   "cell_type": "markdown",
   "metadata": {},
   "source": [
    "The implementd algorithm below maps to the description above and should be straightforward to understand."
   ]
  },
  {
   "cell_type": "code",
   "execution_count": null,
   "metadata": {},
   "outputs": [],
   "source": [
    "# Empty lists to track the number of rewards\n",
    "ep_rewards = []\n",
    "n_steps = []\n",
    "\n",
    "# Zero out the Q-table\n",
    "q_table = np.zeros((env.dim[0], env.dim[1], len(env.action_space)))\n",
    "\n",
    "# Loop through the algorithm\n",
    "for ep in range(num_episodes):\n",
    "    s_0 = env.reset()\n",
    "    done = False\n",
    "    rewards = 0\n",
    "    while done == False:\n",
    "        # Take random action with epsilon probability\n",
    "        if np.random.rand() < eps:\n",
    "            action = np.random.choice(env.action_space)\n",
    "        else:\n",
    "            # Take greedy action\n",
    "            action = np.argmax(q_table[s_0[0], s_0[1]])\n",
    "\n",
    "        s_1, reward, done = env.step(action)\n",
    "        \n",
    "        # Update the Q-table\n",
    "        q_table[s_0[0], s_0[1], action] += lr*(reward + \\\n",
    "                                               gamma*np.max(q_table[s_1[0], s_1[1]]) \\\n",
    "                                               - q_table[s_0[0], s_0[1], action])\n",
    "        s_0 = s_1.copy()\n",
    "        rewards += reward\n",
    "        if done:\n",
    "            ep_rewards.append(rewards)\n",
    "            \n",
    "# Calculate rolling average\n",
    "mean_rewards = [np.mean(ep_rewards[n-10:n]) if n > 10 else np.mean(ep_rewards[:n]) \n",
    "               for n in range(1, len(ep_rewards))]\n",
    "\n",
    "# Plot results\n",
    "plt.figure(figsize=(12,8))\n",
    "plt.plot(ep_rewards)\n",
    "plt.plot(mean_rewards)\n",
    "plt.title('Gridworld Rewards')\n",
    "plt.xlabel('Episode')\n",
    "plt.ylabel('Reward')\n",
    "plt.show()"
   ]
  },
  {
   "cell_type": "markdown",
   "metadata": {},
   "source": [
    "<img src=\"https://www.datahubbs.com/wp-content/uploads/2019/01/gridworld_rewards.png\">"
   ]
  },
  {
   "cell_type": "markdown",
   "metadata": {},
   "source": [
    "We can see that the algorithm quickly learns a good policy enabling it to solve the environment.\n",
    "\n",
    "Additionally, we can see how it values each of the state-action pairs by plotting the values of the Q-table for each action as a heatmap."
   ]
  },
  {
   "cell_type": "code",
   "execution_count": null,
   "metadata": {},
   "outputs": [],
   "source": [
    "plt.figure(figsize=(12,8))\n",
    "for a_idx in env.action_space:\n",
    "    plt.subplot(2,2,a_idx + 1)\n",
    "    sns.heatmap(q_table[:,:, a_idx], cmap='hot', \n",
    "                vmin=np.min(q_table), vmax=np.max(q_table))\n",
    "    # Get direction name from dictionary\n",
    "    direction = [i for i in env.action_dict if env.action_dict[i] == a_idx]\n",
    "    plt.title('Q-Values for Moving {}'.format(direction[0]))\n",
    "\n",
    "plt.tight_layout()\n",
    "plt.show()"
   ]
  },
  {
   "cell_type": "markdown",
   "metadata": {},
   "source": [
    "<img src=\"https://www.datahubbs.com/wp-content/uploads/2019/01/gridworld_heatmap.png\">"
   ]
  },
  {
   "cell_type": "markdown",
   "metadata": {},
   "source": [
    "As expected, moving down and to the right are the best options available to us. \n",
    "\n",
    "Finally, I created a `plot_policy` method in the `gridworld` environment you can call to view the policy given by your current Q-table. This helps to synthesize the various views and see what the algorithm recommends we do."
   ]
  },
  {
   "cell_type": "code",
   "execution_count": null,
   "metadata": {},
   "outputs": [],
   "source": [
    "env.plot_policy(q_table)"
   ]
  },
  {
   "cell_type": "markdown",
   "metadata": {},
   "source": [
    "<img src=\"https://www.datahubbs.com/wp-content/uploads/2019/01/gridworld_policy.png\">"
   ]
  },
  {
   "cell_type": "markdown",
   "metadata": {},
   "source": [
    "The algorithm will converge to the optimal policy, $q*$, in the limit and can quickly approximate large and complex environments. Get a feel for it by implementing the algorithm to solve some of the tabular [OpenAI Gym environments](https://gym.openai.com/envs/#toy_text). Some of these are stochastic in nature (e.g. the Frozen Lake environments) and can still successfully be solved with a tabular Q-learning approach.\n",
    "\n",
    "Q-learning is a powerful learning algorithm that has accomplished a lot in the RL world. This tabular method is rather straightforward and easy to understand, making it a key stepping stone to grasping the nuances of Deep Q-Learning and more advanced methods."
   ]
  }
 ],
 "metadata": {
  "kernelspec": {
   "display_name": "Python 3",
   "language": "python",
   "name": "python3"
  },
  "language_info": {
   "codemirror_mode": {
    "name": "ipython",
    "version": 3
   },
   "file_extension": ".py",
   "mimetype": "text/x-python",
   "name": "python",
   "nbconvert_exporter": "python",
   "pygments_lexer": "ipython3",
   "version": "3.7.6"
  }
 },
 "nbformat": 4,
 "nbformat_minor": 4
}
